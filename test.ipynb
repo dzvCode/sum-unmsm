{
 "cells": [],
 "metadata": {
  "kernelspec": {
   "display_name": "env",
   "language": "python",
   "name": "python3"
  },
  "language_info": {
   "codemirror_mode": {
    "name": "ipython",
    "version": 3
   },
   "file_extension": ".py",
   "mimetype": "text/x-python",
   "name": "python",
   "nbconvert_exporter": "python",
   "pygments_lexer": "ipython3",
   "version": "3.11.2"
  },
  "orig_nbformat": 4,
  "vscode": {
   "interpreter": {
    "hash": "d6c6ea55205776d83854cf429d3ca00efe3215a5249e1d6fa6ffd286ec856b88"
   }
  }
 },
 "nbformat": 4,
 "nbformat_minor": 2
}
